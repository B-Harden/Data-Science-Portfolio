{
 "cells": [
  {
   "cell_type": "markdown",
   "metadata": {},
   "source": [
    "# Read-in Image & Display Image"
   ]
  },
  {
   "cell_type": "code",
   "execution_count": 1,
   "metadata": {
    "collapsed": false
   },
   "outputs": [
    {
     "name": "stdout",
     "output_type": "stream",
     "text": [
      "image dim: (388, 647, 3)\n"
     ]
    }
   ],
   "source": [
    "import cv2\n",
    "import numpy as np\n",
    "\n",
    "img = cv2.imread(\"jp_jeep.jpg\", 1)\n",
    "cv2.imshow(\"origional\", img)\n",
    "print (\"image dim:\", img.shape) # print image dimensions\n",
    "\n",
    "# wait for ESC key to exit\n",
    "k = cv2.waitKey(0) & 0xFF  \n",
    "if k == 27:\n",
    "    cv2.destroyAllWindows()\n",
    "elif k == ord('s'):  # wait for 's' key to save\n",
    "    cv2.imwrite('new_jeep.jpg', img)\n",
    "    cv2.destroyAllWindows()"
   ]
  },
  {
   "cell_type": "markdown",
   "metadata": {},
   "source": [
    "# Resize Image"
   ]
  },
  {
   "cell_type": "code",
   "execution_count": 2,
   "metadata": {
    "collapsed": false
   },
   "outputs": [
    {
     "name": "stdout",
     "output_type": "stream",
     "text": [
      "image dim: (59, 100, 3)\n"
     ]
    }
   ],
   "source": [
    "# we need to keep in mind aspect ratio so the image does\n",
    "# not look skewed or distorted -- therefore, we calculate\n",
    "# the ratio of the new image to the old image\n",
    "r = 100.0 / img.shape[1] # calculate the ratio of the new width to the old width = r\n",
    "dim = (100, int(img.shape[0] * r)) # image height == height * r\n",
    "\n",
    "# perform the actual resizing of the image and show it\n",
    "resized = cv2.resize(img, dim, interpolation = cv2.INTER_AREA)\n",
    "cv2.imshow(\"resized\", resized)\n",
    "print (\"image dim:\", resized.shape) # print image dimensions\n",
    "\n",
    "# wait for ESC key to exit\n",
    "k = cv2.waitKey(0) & 0xFF  \n",
    "if k == 27:\n",
    "    cv2.destroyAllWindows()\n",
    "elif k == ord('s'):  # wait for 's' key to save\n",
    "    cv2.imwrite('new_jeep.jpg', img)\n",
    "    cv2.destroyAllWindows()"
   ]
  },
  {
   "cell_type": "markdown",
   "metadata": {},
   "source": [
    "# Rotating Image "
   ]
  },
  {
   "cell_type": "code",
   "execution_count": null,
   "metadata": {
    "collapsed": false
   },
   "outputs": [],
   "source": [
    "# grab the dimensions of the image and calculate the center\n",
    "# of the image\n",
    "(h, w) = img.shape[:2]\n",
    "center = (w / 2, h / 2)\n",
    " \n",
    "# rotate the image by 180 degrees\n",
    "M = cv2.getRotationMatrix2D(center, 180, 1.0)\n",
    "rotated_img = cv2.warpAffine(img, M, (w, h))\n",
    "cv2.imshow(\"rotated\", rotated_img)\n",
    "\n",
    "# wait for ESC key to exit\n",
    "k = cv2.waitKey(0) & 0xFF  \n",
    "if k == 27:\n",
    "    cv2.destroyAllWindows()\n",
    "elif k == ord('s'):  # wait for 's' key to save\n",
    "    cv2.imwrite('new_jeep.jpg', img)\n",
    "    cv2.destroyAllWindows()"
   ]
  },
  {
   "cell_type": "markdown",
   "metadata": {},
   "source": [
    "# Cropping Image"
   ]
  },
  {
   "cell_type": "code",
   "execution_count": null,
   "metadata": {
    "collapsed": true
   },
   "outputs": [],
   "source": [
    "# crop the image using array slices -- it's a NumPy array\n",
    "# after all!\n",
    "cropped_img = img[70:170, 440:540]\n",
    "cv2.imshow(\"cropped\", cropped_img)\n",
    "\n",
    "# wait for ESC key to exit\n",
    "k = cv2.waitKey(0) & 0xFF  \n",
    "if k == 27:\n",
    "    cv2.destroyAllWindows()\n",
    "elif k == ord('s'):  # wait for 's' key to save\n",
    "    cv2.imwrite('new_jeep.jpg', img)\n",
    "    cv2.destroyAllWindows()"
   ]
  },
  {
   "cell_type": "markdown",
   "metadata": {},
   "source": [
    "# Saving Image"
   ]
  },
  {
   "cell_type": "code",
   "execution_count": 8,
   "metadata": {
    "collapsed": false
   },
   "outputs": [
    {
     "data": {
      "text/plain": [
       "True"
      ]
     },
     "execution_count": 8,
     "metadata": {},
     "output_type": "execute_result"
    }
   ],
   "source": [
    "# write the cropped image to disk in PNG format\n",
    "cv2.imwrite(\"thumbnail.png\", cropped_img)"
   ]
  },
  {
   "cell_type": "code",
   "execution_count": null,
   "metadata": {
    "collapsed": true
   },
   "outputs": [],
   "source": []
  }
 ],
 "metadata": {
  "anaconda-cloud": {},
  "kernelspec": {
   "display_name": "Python [default]",
   "language": "python",
   "name": "python3"
  },
  "language_info": {
   "codemirror_mode": {
    "name": "ipython",
    "version": 3
   },
   "file_extension": ".py",
   "mimetype": "text/x-python",
   "name": "python",
   "nbconvert_exporter": "python",
   "pygments_lexer": "ipython3",
   "version": "3.5.2"
  }
 },
 "nbformat": 4,
 "nbformat_minor": 2
}
