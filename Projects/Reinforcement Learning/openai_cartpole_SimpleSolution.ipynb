{
 "cells": [
  {
   "cell_type": "code",
   "execution_count": 1,
   "metadata": {
    "collapsed": false
   },
   "outputs": [
    {
     "name": "stdout",
     "output_type": "stream",
     "text": [
      "\u001b[33mWARN: gym.spaces.Box autodetected dtype as <class 'numpy.float32'>. Please provide explicit dtype.\u001b[0m\n",
      "best length is  191.29\n",
      "best length is  200.0\n",
      "best length is  200.0\n",
      "best length is  200.0\n",
      "best length is  200.0\n",
      "best length is  200.0\n",
      "best length is  200.0\n",
      "best length is  200.0\n",
      "best length is  200.0\n",
      "best length is  200.0\n",
      "game lasted 200 moves\n"
     ]
    }
   ],
   "source": [
    "import gym\n",
    "import numpy as np\n",
    "from gym import wrappers\n",
    " \n",
    " # Save Open.ai gym as an object\n",
    "env = gym.make('CartPole-v0')\n",
    "\n",
    "bestLength = 0\n",
    "episode_length = []\n",
    "\n",
    "best_weights = np.zeros(4)\n",
    "\n",
    "for i in range(100):\n",
    "    new_weights = np.random.uniform(-1.0, 1.0, 4)\n",
    "\n",
    "    length = []\n",
    "    for j in range(100):\n",
    "        observation = env.reset()\n",
    "        done = False\n",
    "        cnt = 0\n",
    "        \n",
    "        while not done:\n",
    "            # env.render()\n",
    "            cnt += 1\n",
    "\n",
    "            action = 1 if np.dot(observation, new_weights) > 0 else 0\n",
    "\n",
    "            observation, reward, done, _ = env.step(action)\n",
    "\n",
    "            if done:\n",
    "                    break\n",
    "        length.append(cnt)\n",
    "    average_length = float(sum(length)/ len(length))\n",
    "\n",
    "    if average_length > bestLength:\n",
    "        bestLength = average_length\n",
    "        best_weights = new_weights\n",
    "    episode_length.append(average_length)\n",
    "    if i % 10 == 0:\n",
    "        print('best length is ', bestLength)\n",
    "\n",
    "done = False\n",
    "cnt = 0\n",
    "# env = wrappers.Monitor(env, \"MovieFiles2\", force = True)\n",
    "observation = env.reset()\n",
    "\n",
    "while not done:\n",
    "    env.render()\n",
    "    cnt += 1\n",
    "\n",
    "    action = 1 if np.dot(observation, best_weights) > 0 else 0\n",
    "    observation, reward, done, _ = env.step(action)\n",
    "\n",
    "    if done:\n",
    "        break\n",
    "\n",
    "print('game lasted', cnt, 'moves')\n"
   ]
  },
  {
   "cell_type": "code",
   "execution_count": null,
   "metadata": {
    "collapsed": true
   },
   "outputs": [],
   "source": []
  }
 ],
 "metadata": {
  "anaconda-cloud": {},
  "kernelspec": {
   "display_name": "Python [conda root]",
   "language": "python",
   "name": "conda-root-py"
  },
  "language_info": {
   "codemirror_mode": {
    "name": "ipython",
    "version": 3
   },
   "file_extension": ".py",
   "mimetype": "text/x-python",
   "name": "python",
   "nbconvert_exporter": "python",
   "pygments_lexer": "ipython3",
   "version": "3.5.2"
  }
 },
 "nbformat": 4,
 "nbformat_minor": 2
}
