{
 "cells": [
  {
   "cell_type": "markdown",
   "metadata": {
    "collapsed": true
   },
   "source": [
    "# Import Email Data "
   ]
  },
  {
   "cell_type": "code",
   "execution_count": 3,
   "metadata": {
    "collapsed": true
   },
   "outputs": [],
   "source": [
    "# Import Required packages\n",
    "import pandas as pd\n",
    "from sklearn.neighbors import KNeighborsClassifier\n",
    "from sklearn.model_selection import train_test_split"
   ]
  },
  {
   "cell_type": "code",
   "execution_count": 4,
   "metadata": {
    "collapsed": false
   },
   "outputs": [
    {
     "name": "stdout",
     "output_type": "stream",
     "text": [
      "<class 'pandas.core.frame.DataFrame'>\n"
     ]
    }
   ],
   "source": [
    "# Import data set and save into an object\n",
    "emails = pd.read_csv(\"new_dataset.csv\")\n",
    "\n",
    "''' Convert negative features to positive values''' # Unblock code below to activate task listed to the left\n",
    "# emails.replace(-1, 1, inplace= True)\n",
    "# emails.replace(0, 2, inplace= True)\n",
    "# emails.replace(1, 3, inplace= True)\n",
    "\n",
    "\n",
    "print(type(emails))\n",
    "# print(emails.head())\n",
    "# print(emails)"
   ]
  },
  {
   "cell_type": "markdown",
   "metadata": {},
   "source": [
    "# Save target variable and feature variables in their own objects"
   ]
  },
  {
   "cell_type": "code",
   "execution_count": 5,
   "metadata": {
    "collapsed": false
   },
   "outputs": [
    {
     "name": "stdout",
     "output_type": "stream",
     "text": [
      "(11055, 29)\n",
      "(11055,)\n"
     ]
    }
   ],
   "source": [
    "y = emails['Result']  # save target variable *without being as type: 'category' \n",
    "\n",
    "''' Save target variable as type: 'category' '''\n",
    "# y = emails['Result'].astype('category') # Unblock code below to activate task listed to the left\n",
    "\n",
    "X = emails.iloc[:,0:29]\n",
    "# print(X.head())\n",
    "print(X.shape)\n",
    "print(y.shape)\n"
   ]
  },
  {
   "cell_type": "markdown",
   "metadata": {
    "collapsed": false
   },
   "source": [
    "# Split data into train & test set using scikit learn"
   ]
  },
  {
   "cell_type": "code",
   "execution_count": 6,
   "metadata": {
    "collapsed": false
   },
   "outputs": [
    {
     "data": {
      "text/plain": [
       "(7738, 29)"
      ]
     },
     "execution_count": 6,
     "metadata": {},
     "output_type": "execute_result"
    }
   ],
   "source": [
    "X_train, X_test, y_train, y_test = train_test_split(X, y, test_size=0.30, random_state=42) # Train set= 70%; Test set= 30%\n",
    "X_train.shape # View data set dimensions"
   ]
  },
  {
   "cell_type": "markdown",
   "metadata": {},
   "source": [
    "# Gaussian Naive Bayes Classifier "
   ]
  },
  {
   "cell_type": "code",
   "execution_count": 20,
   "metadata": {
    "collapsed": false
   },
   "outputs": [
    {
     "name": "stdout",
     "output_type": "stream",
     "text": [
      "Confusion Matrix\n",
      "[[1425    3]\n",
      " [1367  522]]\n",
      "\n",
      "Classification Report\n",
      "             precision    recall  f1-score   support\n",
      "\n",
      "         -1       0.51      1.00      0.68      1428\n",
      "          1       0.99      0.28      0.43      1889\n",
      "\n",
      "avg / total       0.79      0.59      0.54      3317\n",
      "\n",
      "\n",
      "Final Result\n",
      "Gaussian-NB Classifier produced an average classification percision of 79%\n"
     ]
    }
   ],
   "source": [
    "# Gaussian Naive Bayes\n",
    "from sklearn import datasets\n",
    "from sklearn import metrics\n",
    "from sklearn.naive_bayes import GaussianNB\n",
    "\n",
    "# fit a Naive Bayes model to the data\n",
    "model = GaussianNB()\n",
    "model.fit(X_train, y_train)\n",
    "# print(model)\n",
    "\n",
    "# make predictions\n",
    "expected = y_test\n",
    "predicted = model.predict(X_test)\n",
    "\n",
    "# summarize the fit of the model\n",
    "print(\"Confusion Matrix\")\n",
    "print(metrics.confusion_matrix(expected, predicted))\n",
    "print()\n",
    "print(\"Classification Report\")\n",
    "print(metrics.classification_report(expected, predicted))\n",
    "print()\n",
    "print(\"Final Result\")\n",
    "print(\"Gaussian-NB Classifier produced an average classification percision of 79%\")"
   ]
  },
  {
   "cell_type": "markdown",
   "metadata": {},
   "source": [
    "# Decision Trees Classifier"
   ]
  },
  {
   "cell_type": "code",
   "execution_count": 21,
   "metadata": {
    "collapsed": false
   },
   "outputs": [
    {
     "name": "stdout",
     "output_type": "stream",
     "text": [
      "Conffusion Matrix\n",
      "[[1357   71]\n",
      " [  65 1824]]\n",
      "\n",
      "Classification Report\n",
      "             precision    recall  f1-score   support\n",
      "\n",
      "         -1       0.95      0.95      0.95      1428\n",
      "          1       0.96      0.97      0.96      1889\n",
      "\n",
      "avg / total       0.96      0.96      0.96      3317\n",
      "\n",
      "\n",
      "Final Result\n",
      "Decision Tree Classifier produced an average classification percision of 96%\n"
     ]
    }
   ],
   "source": [
    "# Decision Tree Classifier\n",
    "from sklearn import datasets\n",
    "from sklearn import metrics\n",
    "from sklearn.tree import DecisionTreeClassifier\n",
    "\n",
    "# fit a CART model to the data\n",
    "model = DecisionTreeClassifier()\n",
    "model.fit(X_train, y_train)\n",
    "# print(model)\n",
    "\n",
    "# make predictions\n",
    "expected = y_test\n",
    "predicted = model.predict(X_test)\n",
    "\n",
    "# summarize the fit of the model\n",
    "print(\"Conffusion Matrix\")\n",
    "print(metrics.confusion_matrix(expected, predicted))\n",
    "print()\n",
    "print(\"Classification Report\")\n",
    "print(metrics.classification_report(expected, predicted))\n",
    "print()\n",
    "print(\"Final Result\")\n",
    "print(\"Decision Tree Classifier produced an average classification percision of 96%\")"
   ]
  },
  {
   "cell_type": "markdown",
   "metadata": {},
   "source": [
    "# Support Vector Machine (SVM) Classifier  "
   ]
  },
  {
   "cell_type": "code",
   "execution_count": 22,
   "metadata": {
    "collapsed": false
   },
   "outputs": [
    {
     "name": "stdout",
     "output_type": "stream",
     "text": [
      "SVC(C=1.0, cache_size=200, class_weight=None, coef0=0.0,\n",
      "  decision_function_shape=None, degree=3, gamma='auto', kernel='rbf',\n",
      "  max_iter=-1, probability=False, random_state=None, shrinking=True,\n",
      "  tol=0.001, verbose=False)\n",
      "Confusion Matrix\n",
      "[[1312  116]\n",
      " [  82 1807]]\n",
      "\n",
      "CLassification Report\n",
      "             precision    recall  f1-score   support\n",
      "\n",
      "         -1       0.94      0.92      0.93      1428\n",
      "          1       0.94      0.96      0.95      1889\n",
      "\n",
      "avg / total       0.94      0.94      0.94      3317\n",
      "\n",
      "\n",
      "Final Result\n",
      "SVM Classifier produced an average classification percision of 94%\n"
     ]
    }
   ],
   "source": [
    "# Support Vector Machine\n",
    "from sklearn import datasets\n",
    "from sklearn import metrics\n",
    "from sklearn.svm import SVC\n",
    "\n",
    "# fit a SVM model to the data\n",
    "model = SVC()\n",
    "model.fit(X_train, y_train)\n",
    "print(model)\n",
    "\n",
    "# make predictions\n",
    "expected = y_test\n",
    "predicted = model.predict(X_test)\n",
    "\n",
    "# summarize the fit of the model\n",
    "print(\"Confusion Matrix\")\n",
    "print(metrics.confusion_matrix(expected, predicted))\n",
    "print()\n",
    "print(\"CLassification Report\")\n",
    "print(metrics.classification_report(expected, predicted))\n",
    "print()\n",
    "print(\"Final Result\")\n",
    "print(\"SVM Classifier produced an average classification percision of 94%\")"
   ]
  }
 ],
 "metadata": {
  "anaconda-cloud": {},
  "kernelspec": {
   "display_name": "Python [default]",
   "language": "python",
   "name": "python3"
  },
  "language_info": {
   "codemirror_mode": {
    "name": "ipython",
    "version": 3
   },
   "file_extension": ".py",
   "mimetype": "text/x-python",
   "name": "python",
   "nbconvert_exporter": "python",
   "pygments_lexer": "ipython3",
   "version": "3.5.2"
  }
 },
 "nbformat": 4,
 "nbformat_minor": 2
}
