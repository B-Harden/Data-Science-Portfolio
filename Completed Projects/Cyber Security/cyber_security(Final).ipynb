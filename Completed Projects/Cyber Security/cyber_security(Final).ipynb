x{
 "cells": [
  {
   "cell_type": "markdown",
   "metadata": {},
   "source": [
    "# Cyber Security using dns log names"
   ]
  },
  {
   "cell_type": "markdown",
   "metadata": {},
   "source": [
    "### Assignment 1"
   ]
  },
  {
   "cell_type": "raw",
   "metadata": {},
   "source": [
    "Examine the file \"host_names.csv\". One indication that there may be something wrong on a network is an increase number of DNS requests. In the following DNS request the hostname is pafqcg3a.\n",
    "\n",
    "Standard query 0x6f7b NULL pafqcg3a.an-crimea.ru OPT\n",
    "\n",
    "There is usually a high number of random hostnames in this log. How many distinct hostnames are there?"
   ]
  },
  {
   "cell_type": "code",
   "execution_count": 2,
   "metadata": {
    "collapsed": true
   },
   "outputs": [],
   "source": [
    "import pandas as pd\n",
    "import re"
   ]
  },
  {
   "cell_type": "code",
   "execution_count": 15,
   "metadata": {
    "collapsed": false,
    "scrolled": true
   },
   "outputs": [
    {
     "name": "stdout",
     "output_type": "stream",
     "text": [
      "<class 'pandas.core.series.Series'>\n"
     ]
    }
   ],
   "source": [
    "# Import data set\n",
    "dns_logs = pd.read_csv(\"host_names.csv\", header = None, squeeze= True)\n",
    "print(type(dns_logs))\n",
    "# dns_logs.head()\n",
    "# print(dns_logs)"
   ]
  },
  {
   "cell_type": "markdown",
   "metadata": {},
   "source": [
    "# Attempt to use Pandas to extract unique dns names "
   ]
  },
  {
   "cell_type": "code",
   "execution_count": 16,
   "metadata": {
    "collapsed": false
   },
   "outputs": [
    {
     "name": "stdout",
     "output_type": "stream",
     "text": [
      "<class 'pandas.core.series.Series'>\n"
     ]
    }
   ],
   "source": [
    "# Extract dns log names using Regex\n",
    "dns = dns_logs.str.extract('NULL (.+?).an-crimea.ru', expand= False) # Extract log names with Russian extensions\n",
    "print(type(dns))\n",
    "# print(dns)"
   ]
  },
  {
   "cell_type": "markdown",
   "metadata": {},
   "source": [
    "# Convert to type 'str' "
   ]
  },
  {
   "cell_type": "code",
   "execution_count": 17,
   "metadata": {
    "collapsed": false
   },
   "outputs": [
    {
     "name": "stdout",
     "output_type": "stream",
     "text": [
      "<class 'pandas.core.series.Series'>\n"
     ]
    }
   ],
   "source": [
    "dns = dns.astype(str)\n",
    "print(type(dns))"
   ]
  },
  {
   "cell_type": "markdown",
   "metadata": {},
   "source": [
    "# Remove unwanted features in dns log names (\"\\\\\\\\\")"
   ]
  },
  {
   "cell_type": "code",
   "execution_count": 28,
   "metadata": {
    "collapsed": false
   },
   "outputs": [
    {
     "name": "stdout",
     "output_type": "stream",
     "text": [
      "Final Result\n",
      "The dns_log contained [179] unique log_names.\n",
      "\n",
      "We subract 3 from 182 because we do not want to include long dns names\n",
      "0                                                    www\n",
      "1                       laegpumiplhhpz12ynd1efljwlkjcgwy\n",
      "2                                                 yrbi02\n",
      "3      zi05aAbBcCdDeEfFgGhHiIjJkKlLmMnNoOpPqQrRsStTuU...\n",
      "4                                                 sbhi1c\n",
      "5                                                 obsi1d\n",
      "6                                                 obli1e\n",
      "7                                                    nan\n",
      "8                                              naeckei1s\n",
      "9                                               paeacg2y\n",
      "10                                              pafqcg3a\n",
      "11                                              paeacg3i\n",
      "12                                              paeycg3q\n",
      "13                                              pafycg3y\n",
      "14                                              paeacg4a\n",
      "15                                              paeicg4i\n",
      "16                                              paeqcg4q\n",
      "17                                              paeycg4y\n",
      "18                                              pafacg5a\n",
      "19                                              paficg5i\n",
      "20                                              pafqcg5q\n",
      "21                                              pafycg5y\n",
      "22                                              paeachaa\n",
      "23                                              paeichai\n",
      "24                                              paeqchaq\n",
      "25                                              paeychay\n",
      "26                                              pafachba\n",
      "27                                              pafichbi\n",
      "28                                              pafqchbq\n",
      "29                                              pafychby\n",
      "                             ...                        \n",
      "152                                             paeqciaq\n",
      "153                                             paeyciay\n",
      "154                                             pafaciba\n",
      "155                                             paficibi\n",
      "156                                             pafqcibq\n",
      "157                                             pafyciby\n",
      "158                                             paeacica\n",
      "159                                             paeicici\n",
      "160                                             paeqcicq\n",
      "161                                             paeycicy\n",
      "162                                             pafacida\n",
      "163                                             paficidi\n",
      "164                                             pafqcidq\n",
      "165                                             pafycidy\n",
      "166                                             paeaciea\n",
      "167                                             paeiciei\n",
      "168                                             paeqcieq\n",
      "169                                             paeyciey\n",
      "170                                             pafacifa\n",
      "171                                             paficifi\n",
      "172                                             pafqcifq\n",
      "173                                             pafycify\n",
      "174                                             paeaciga\n",
      "175                                             paeicigi\n",
      "176                                             paeqcigq\n",
      "177                                             paeycigy\n",
      "178                                             pafaciha\n",
      "179                                             pafacihi\n",
      "180                                             paficihq\n",
      "181                                             paficihy\n",
      "dtype: object\n"
     ]
    }
   ],
   "source": [
    "g = [ x for x in dns if \"\\\\\\\\\" not in x ]\n",
    "g = pd.Series(g)\n",
    "g = pd.Series.unique(g)\n",
    "g = pd.Series(g)\n",
    "\n",
    "print(\"Final Result\")\n",
    "print(\"The dns_log contained\" + \" \" + \"[\" + str(len(g) - 3) + \"]\" + \" \" + \"unique log_names.\")\n",
    "# print(type(g))\n",
    "print()\n",
    "print(\"We subract 3 from\" + ' ' +str(len(g)) + ' ' + 'because we do not want to include long dns names')\n",
    "print(g)"
   ]
  }
 ],
 "metadata": {
  "anaconda-cloud": {},
  "kernelspec": {
   "display_name": "Python [default]",
   "language": "python",
   "name": "python3"
  },
  "language_info": {
   "codemirror_mode": {
    "name": "ipython",
    "version": 3
   },
   "file_extension": ".py",
   "mimetype": "text/x-python",
   "name": "python",
   "nbconvert_exporter": "python",
   "pygments_lexer": "ipython3",
   "version": "3.5.2"
  }
 },
 "nbformat": 4,
 "nbformat_minor": 2
}
