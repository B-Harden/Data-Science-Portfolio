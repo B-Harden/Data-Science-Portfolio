{
 "cells": [
  {
   "cell_type": "markdown",
   "metadata": {},
   "source": [
    "# Download and necessary packages "
   ]
  },
  {
   "cell_type": "code",
   "execution_count": 2,
   "metadata": {
    "collapsed": true
   },
   "outputs": [],
   "source": [
    "import pandas as pd\n",
    "import numpy as np\n",
    "import seaborn as sns\n",
    "sns.set_palette('Set2')\n",
    "import matplotlib.pyplot as plt\n",
    "%matplotlib inline"
   ]
  },
  {
   "cell_type": "markdown",
   "metadata": {},
   "source": [
    "# Import Mental Health in Tech data set - *mind_health.csv*"
   ]
  },
  {
   "cell_type": "code",
   "execution_count": 3,
   "metadata": {
    "collapsed": false
   },
   "outputs": [],
   "source": [
    "mental = pd.read_csv(\"mind_health.csv\")"
   ]
  },
  {
   "cell_type": "markdown",
   "metadata": {},
   "source": [
    "# Review data"
   ]
  },
  {
   "cell_type": "code",
   "execution_count": 4,
   "metadata": {
    "collapsed": false,
    "scrolled": true
   },
   "outputs": [
    {
     "name": "stdout",
     "output_type": "stream",
     "text": [
      "<class 'pandas.core.frame.DataFrame'>\n"
     ]
    },
    {
     "data": {
      "text/html": [
       "<div>\n",
       "<table border=\"1\" class=\"dataframe\">\n",
       "  <thead>\n",
       "    <tr style=\"text-align: right;\">\n",
       "      <th></th>\n",
       "      <th>Are you self-employed?</th>\n",
       "      <th>How many employees does your company or organization have?</th>\n",
       "      <th>Is your employer primarily a tech company/organization?</th>\n",
       "      <th>Is your primary role within your company related to tech/IT?</th>\n",
       "      <th>Does your employer provide mental health benefits as part of healthcare coverage?</th>\n",
       "      <th>Do you know the options for mental health care available under your employer-provided coverage?</th>\n",
       "      <th>Has your employer ever formally discussed mental health (for example, as part of a wellness campaign or other official communication)?</th>\n",
       "      <th>Does your employer offer resources to learn more about mental health concerns and options for seeking help?</th>\n",
       "      <th>Is your anonymity protected if you choose to take advantage of mental health or substance abuse treatment resources provided by your employer?</th>\n",
       "      <th>If a mental health issue prompted you to request a medical leave from work, asking for that leave would be:</th>\n",
       "      <th>...</th>\n",
       "      <th>If you have a mental health issue, do you feel that it interferes with your work when being treated effectively?</th>\n",
       "      <th>If you have a mental health issue, do you feel that it interferes with your work when NOT being treated effectively?</th>\n",
       "      <th>What is your age?</th>\n",
       "      <th>What is your gender?</th>\n",
       "      <th>What country do you live in?</th>\n",
       "      <th>What US state or territory do you live in?</th>\n",
       "      <th>What country do you work in?</th>\n",
       "      <th>What US state or territory do you work in?</th>\n",
       "      <th>Which of the following best describes your work position?</th>\n",
       "      <th>Do you work remotely?</th>\n",
       "    </tr>\n",
       "  </thead>\n",
       "  <tbody>\n",
       "    <tr>\n",
       "      <th>0</th>\n",
       "      <td>0</td>\n",
       "      <td>26-100</td>\n",
       "      <td>1.0</td>\n",
       "      <td>NaN</td>\n",
       "      <td>Not eligible for coverage / N/A</td>\n",
       "      <td>NaN</td>\n",
       "      <td>No</td>\n",
       "      <td>No</td>\n",
       "      <td>I don't know</td>\n",
       "      <td>Very easy</td>\n",
       "      <td>...</td>\n",
       "      <td>Not applicable to me</td>\n",
       "      <td>Not applicable to me</td>\n",
       "      <td>39</td>\n",
       "      <td>Male</td>\n",
       "      <td>United Kingdom</td>\n",
       "      <td>NaN</td>\n",
       "      <td>United Kingdom</td>\n",
       "      <td>NaN</td>\n",
       "      <td>Back-end Developer</td>\n",
       "      <td>Sometimes</td>\n",
       "    </tr>\n",
       "    <tr>\n",
       "      <th>1</th>\n",
       "      <td>0</td>\n",
       "      <td>25-Jun</td>\n",
       "      <td>1.0</td>\n",
       "      <td>NaN</td>\n",
       "      <td>No</td>\n",
       "      <td>Yes</td>\n",
       "      <td>Yes</td>\n",
       "      <td>Yes</td>\n",
       "      <td>Yes</td>\n",
       "      <td>Somewhat easy</td>\n",
       "      <td>...</td>\n",
       "      <td>Rarely</td>\n",
       "      <td>Sometimes</td>\n",
       "      <td>29</td>\n",
       "      <td>male</td>\n",
       "      <td>United States of America</td>\n",
       "      <td>Illinois</td>\n",
       "      <td>United States of America</td>\n",
       "      <td>Illinois</td>\n",
       "      <td>Back-end Developer|Front-end Developer</td>\n",
       "      <td>Never</td>\n",
       "    </tr>\n",
       "    <tr>\n",
       "      <th>2</th>\n",
       "      <td>0</td>\n",
       "      <td>25-Jun</td>\n",
       "      <td>1.0</td>\n",
       "      <td>NaN</td>\n",
       "      <td>No</td>\n",
       "      <td>NaN</td>\n",
       "      <td>No</td>\n",
       "      <td>No</td>\n",
       "      <td>I don't know</td>\n",
       "      <td>Neither easy nor difficult</td>\n",
       "      <td>...</td>\n",
       "      <td>Not applicable to me</td>\n",
       "      <td>Not applicable to me</td>\n",
       "      <td>38</td>\n",
       "      <td>Male</td>\n",
       "      <td>United Kingdom</td>\n",
       "      <td>NaN</td>\n",
       "      <td>United Kingdom</td>\n",
       "      <td>NaN</td>\n",
       "      <td>Back-end Developer</td>\n",
       "      <td>Always</td>\n",
       "    </tr>\n",
       "    <tr>\n",
       "      <th>3</th>\n",
       "      <td>1</td>\n",
       "      <td>NaN</td>\n",
       "      <td>NaN</td>\n",
       "      <td>NaN</td>\n",
       "      <td>NaN</td>\n",
       "      <td>NaN</td>\n",
       "      <td>NaN</td>\n",
       "      <td>NaN</td>\n",
       "      <td>NaN</td>\n",
       "      <td>NaN</td>\n",
       "      <td>...</td>\n",
       "      <td>Sometimes</td>\n",
       "      <td>Sometimes</td>\n",
       "      <td>43</td>\n",
       "      <td>male</td>\n",
       "      <td>United Kingdom</td>\n",
       "      <td>NaN</td>\n",
       "      <td>United Kingdom</td>\n",
       "      <td>NaN</td>\n",
       "      <td>Supervisor/Team Lead</td>\n",
       "      <td>Sometimes</td>\n",
       "    </tr>\n",
       "    <tr>\n",
       "      <th>4</th>\n",
       "      <td>0</td>\n",
       "      <td>25-Jun</td>\n",
       "      <td>0.0</td>\n",
       "      <td>1.0</td>\n",
       "      <td>Yes</td>\n",
       "      <td>Yes</td>\n",
       "      <td>No</td>\n",
       "      <td>No</td>\n",
       "      <td>No</td>\n",
       "      <td>Neither easy nor difficult</td>\n",
       "      <td>...</td>\n",
       "      <td>Sometimes</td>\n",
       "      <td>Sometimes</td>\n",
       "      <td>43</td>\n",
       "      <td>Female</td>\n",
       "      <td>United States of America</td>\n",
       "      <td>Illinois</td>\n",
       "      <td>United States of America</td>\n",
       "      <td>Illinois</td>\n",
       "      <td>Executive Leadership|Supervisor/Team Lead|Dev ...</td>\n",
       "      <td>Sometimes</td>\n",
       "    </tr>\n",
       "  </tbody>\n",
       "</table>\n",
       "<p>5 rows × 63 columns</p>\n",
       "</div>"
      ],
      "text/plain": [
       "   Are you self-employed?  \\\n",
       "0                       0   \n",
       "1                       0   \n",
       "2                       0   \n",
       "3                       1   \n",
       "4                       0   \n",
       "\n",
       "  How many employees does your company or organization have?  \\\n",
       "0                                             26-100           \n",
       "1                                             25-Jun           \n",
       "2                                             25-Jun           \n",
       "3                                                NaN           \n",
       "4                                             25-Jun           \n",
       "\n",
       "   Is your employer primarily a tech company/organization?  \\\n",
       "0                                                1.0         \n",
       "1                                                1.0         \n",
       "2                                                1.0         \n",
       "3                                                NaN         \n",
       "4                                                0.0         \n",
       "\n",
       "   Is your primary role within your company related to tech/IT?  \\\n",
       "0                                                NaN              \n",
       "1                                                NaN              \n",
       "2                                                NaN              \n",
       "3                                                NaN              \n",
       "4                                                1.0              \n",
       "\n",
       "  Does your employer provide mental health benefits as part of healthcare coverage?  \\\n",
       "0                    Not eligible for coverage / N/A                                  \n",
       "1                                                 No                                  \n",
       "2                                                 No                                  \n",
       "3                                                NaN                                  \n",
       "4                                                Yes                                  \n",
       "\n",
       "  Do you know the options for mental health care available under your employer-provided coverage?  \\\n",
       "0                                                NaN                                                \n",
       "1                                                Yes                                                \n",
       "2                                                NaN                                                \n",
       "3                                                NaN                                                \n",
       "4                                                Yes                                                \n",
       "\n",
       "  Has your employer ever formally discussed mental health (for example, as part of a wellness campaign or other official communication)?  \\\n",
       "0                                                 No                                                                                       \n",
       "1                                                Yes                                                                                       \n",
       "2                                                 No                                                                                       \n",
       "3                                                NaN                                                                                       \n",
       "4                                                 No                                                                                       \n",
       "\n",
       "  Does your employer offer resources to learn more about mental health concerns and options for seeking help?  \\\n",
       "0                                                 No                                                            \n",
       "1                                                Yes                                                            \n",
       "2                                                 No                                                            \n",
       "3                                                NaN                                                            \n",
       "4                                                 No                                                            \n",
       "\n",
       "  Is your anonymity protected if you choose to take advantage of mental health or substance abuse treatment resources provided by your employer?  \\\n",
       "0                                       I don't know                                                                                               \n",
       "1                                                Yes                                                                                               \n",
       "2                                       I don't know                                                                                               \n",
       "3                                                NaN                                                                                               \n",
       "4                                                 No                                                                                               \n",
       "\n",
       "  If a mental health issue prompted you to request a medical leave from work, asking for that leave would be:  \\\n",
       "0                                          Very easy                                                            \n",
       "1                                      Somewhat easy                                                            \n",
       "2                         Neither easy nor difficult                                                            \n",
       "3                                                NaN                                                            \n",
       "4                         Neither easy nor difficult                                                            \n",
       "\n",
       "           ...           \\\n",
       "0          ...            \n",
       "1          ...            \n",
       "2          ...            \n",
       "3          ...            \n",
       "4          ...            \n",
       "\n",
       "  If you have a mental health issue, do you feel that it interferes with your work when being treated effectively?  \\\n",
       "0                               Not applicable to me                                                                 \n",
       "1                                             Rarely                                                                 \n",
       "2                               Not applicable to me                                                                 \n",
       "3                                          Sometimes                                                                 \n",
       "4                                          Sometimes                                                                 \n",
       "\n",
       "  If you have a mental health issue, do you feel that it interferes with your work when NOT being treated effectively?  \\\n",
       "0                               Not applicable to me                                                                     \n",
       "1                                          Sometimes                                                                     \n",
       "2                               Not applicable to me                                                                     \n",
       "3                                          Sometimes                                                                     \n",
       "4                                          Sometimes                                                                     \n",
       "\n",
       "  What is your age? What is your gender? What country do you live in?  \\\n",
       "0                39                 Male               United Kingdom   \n",
       "1                29                 male     United States of America   \n",
       "2                38                Male                United Kingdom   \n",
       "3                43                 male               United Kingdom   \n",
       "4                43               Female     United States of America   \n",
       "\n",
       "  What US state or territory do you live in?  What country do you work in?  \\\n",
       "0                                        NaN                United Kingdom   \n",
       "1                                   Illinois      United States of America   \n",
       "2                                        NaN                United Kingdom   \n",
       "3                                        NaN                United Kingdom   \n",
       "4                                   Illinois      United States of America   \n",
       "\n",
       "  What US state or territory do you work in?  \\\n",
       "0                                        NaN   \n",
       "1                                   Illinois   \n",
       "2                                        NaN   \n",
       "3                                        NaN   \n",
       "4                                   Illinois   \n",
       "\n",
       "  Which of the following best describes your work position?  \\\n",
       "0                                 Back-end Developer          \n",
       "1             Back-end Developer|Front-end Developer          \n",
       "2                                 Back-end Developer          \n",
       "3                               Supervisor/Team Lead          \n",
       "4  Executive Leadership|Supervisor/Team Lead|Dev ...          \n",
       "\n",
       "  Do you work remotely?  \n",
       "0             Sometimes  \n",
       "1                 Never  \n",
       "2                Always  \n",
       "3             Sometimes  \n",
       "4             Sometimes  \n",
       "\n",
       "[5 rows x 63 columns]"
      ]
     },
     "execution_count": 4,
     "metadata": {},
     "output_type": "execute_result"
    }
   ],
   "source": [
    "print(type(mental))\n",
    "mental.head()"
   ]
  },
  {
   "cell_type": "code",
   "execution_count": 5,
   "metadata": {
    "collapsed": false
   },
   "outputs": [],
   "source": [
    "# mental.describe()"
   ]
  },
  {
   "cell_type": "markdown",
   "metadata": {},
   "source": [
    "# Clean the data so that the gender field is (F)emale, (M)ale, or (U)ndefined"
   ]
  },
  {
   "cell_type": "code",
   "execution_count": 6,
   "metadata": {
    "collapsed": false
   },
   "outputs": [],
   "source": [
    "# Consolidate column names\n",
    "mental['What is your gender?'] = mental['What is your gender?'].replace([\n",
    "    'male', 'Male ', 'M', 'm', 'man', 'Cis male',\n",
    "    'Male.', 'Male (cis)', 'Man', 'Sex is male',\n",
    "    'cis male', 'Malr', 'Dude', \"I'm a man why didn't you make this a drop down question. You should of asked sex? And I would of answered yes please. Seriously how much text can this take? \",\n",
    "    'mail', 'M|', 'male ', 'Cis Male', 'Male (trans, FtM)',\n",
    "    'cisdude', 'cis man', 'MALE', 'Male'], 'M')\n",
    "\n",
    "\n",
    "mental['What is your gender?'] = mental['What is your gender?'].replace([\n",
    "    'female', 'I identify as female.', 'female ',\n",
    "    'Female assigned at birth ', 'F', 'Woman', 'fm', 'f',\n",
    "    'Cis female', 'Transitioned, M2F', 'Female or Multi-Gender Femme',\n",
    "    'Female ', 'woman', 'female/woman', 'Cisgender Female', \n",
    "    'mtf', 'fem', 'Female (props for making this a freeform field, though)',\n",
    "    ' Female', 'Cis-woman', 'AFAB', 'Transgender woman',\n",
    "    'Cis female ', 'Female'], 'F')\n",
    "\n",
    "\n",
    "mental['What is your gender?'] = mental['What is your gender?'].replace([\n",
    "    'Bigender', 'non-binary,', 'Genderfluid (born female)',\n",
    "    'Other/Transfeminine', 'Androgynous', 'male 9:1 female, roughly',\n",
    "    'nb masculine', 'genderqueer', 'Human', 'Genderfluid',\n",
    "    'Enby', 'genderqueer woman', 'Queer', 'Agender', 'Fluid',\n",
    "    'Genderflux demi-girl', 'female-bodied; no feelings about gender',\n",
    "    'non-binary', 'Male/genderqueer', 'Nonbinary', 'Other', 'none of your business',\n",
    "    'Unicorn', 'human', 'Genderqueer'], 'U')"
   ]
  },
  {
   "cell_type": "markdown",
   "metadata": {},
   "source": [
    "# How many females report a previous mental illness? "
   ]
  },
  {
   "cell_type": "code",
   "execution_count": 7,
   "metadata": {
    "collapsed": false
   },
   "outputs": [
    {
     "data": {
      "text/plain": [
       "'View the groups keys '"
      ]
     },
     "execution_count": 7,
     "metadata": {},
     "output_type": "execute_result"
    }
   ],
   "source": [
    "# Group data by 'gender' & 'mental health response'\n",
    "employee_health = mental.groupby(['What is your gender?','Have you had a mental health disorder in the past?'])\n",
    "\n",
    "'''View the groups keys '''    # Unblock code below to activate\n",
    "# employee_health.groups.keys()  \n",
    "\n",
    "\n",
    "\n",
    "\n",
    "# *Practice code below*\n",
    "# mental.groupby(['revenue','session','user_id'])['user_id'].count()"
   ]
  },
  {
   "cell_type": "code",
   "execution_count": 9,
   "metadata": {
    "collapsed": false
   },
   "outputs": [
    {
     "name": "stdout",
     "output_type": "stream",
     "text": [
      "What is your gender?  Have you had a mental health disorder in the past?\n",
      "F                     Maybe                                                  49\n",
      "                      No                                                     72\n",
      "                      Yes                                                   222\n",
      "M                     Maybe                                                 193\n",
      "                      No                                                    379\n",
      "                      Yes                                                   486\n",
      "U                     Maybe                                                   4\n",
      "                      Yes                                                    25\n",
      "dtype: int64\n",
      "\n",
      "Final Result\n",
      "[222]females reported yes to having a previous mental illness.\n"
     ]
    }
   ],
   "source": [
    "# Count how many females reported yes to having a previous mental illness\n",
    "female_health = employee_health.apply(len)\n",
    "\n",
    "# Unblock code below to view response table\n",
    "print(female_health)\n",
    "print()\n",
    "\n",
    "# Answer below:\n",
    "print(\"Final Result\")\n",
    "print('[' + '222' + ']' + 'females reported yes to having a previous mental illness.')"
   ]
  },
  {
   "cell_type": "markdown",
   "metadata": {},
   "source": [
    "# How many people are self employed or work remotely?"
   ]
  },
  {
   "cell_type": "code",
   "execution_count": 12,
   "metadata": {
    "collapsed": false
   },
   "outputs": [],
   "source": [
    "# Group employees by 'self employed' & 'work remotely'\n",
    "work_locations = mental.groupby(['Are you self-employed?','Do you work remotely?'])\n",
    "\n",
    "# Unblock code below to view the groups keys\n",
    "# work_locations.groups.keys()"
   ]
  },
  {
   "cell_type": "code",
   "execution_count": 14,
   "metadata": {
    "collapsed": false
   },
   "outputs": [
    {
     "name": "stdout",
     "output_type": "stream",
     "text": [
      "Are you self-employed?  Do you work remotely?\n",
      "0                       Always                   217\n",
      "                        Never                    318\n",
      "                        Sometimes                611\n",
      "1                       Always                   126\n",
      "                        Never                     15\n",
      "                        Sometimes                146\n",
      "dtype: int64\n",
      "\n",
      "Final Result\n",
      "[272]employees reported that they are self-employed or work remotely.\n"
     ]
    }
   ],
   "source": [
    "# Count how many employees reported that they are self-employed or work remotely.\n",
    "work_space = work_locations.apply(len)\n",
    "\n",
    "'''View the groups keys '''    # Unblock code below to activate\n",
    "print(work_space)\n",
    "print()\n",
    "\n",
    "# Answer below:\n",
    "print('Final Result')\n",
    "print('[' + str(126 +146) + ']' + 'employees reported that they are self-employed or work remotely.')"
   ]
  },
  {
   "cell_type": "code",
   "execution_count": null,
   "metadata": {
    "collapsed": true
   },
   "outputs": [],
   "source": [
    "\n",
    "\n",
    "\n",
    "\n",
    "\n",
    "\n",
    "\n",
    "\n",
    "\n",
    "\n",
    "\n",
    "\n",
    "\n"
   ]
  },
  {
   "cell_type": "markdown",
   "metadata": {},
   "source": [
    "# What is the most common mental disorder reported? "
   ]
  },
  {
   "cell_type": "code",
   "execution_count": 15,
   "metadata": {
    "collapsed": false,
    "scrolled": true
   },
   "outputs": [
    {
     "name": "stdout",
     "output_type": "stream",
     "text": [
      "Final Result\n",
      "'Mood Disorder' is the most commen mental disorder reported.\n"
     ]
    }
   ],
   "source": [
    "disorders = {}\n",
    "\n",
    "disorderCounts = dict(mental['If yes, what condition(s) have you been diagnosed with?'].value_counts())\n",
    "for i in disorderCounts:\n",
    "    # split data by pipe and then a space followed by a open parenthesis\n",
    "    disorderList = i.split('|')\n",
    "    for j in disorderList:\n",
    "        j = j.split(' (')[0]\n",
    "        disorders[j] = disorders.get(j, 0) + disorderCounts[i]\n",
    "\n",
    "tmp = pd.DataFrame()\n",
    "for i in disorders:\n",
    "    tmp = tmp.append([i] * disorders[i])\n",
    "    \n",
    "# Add feature name to data set (\"Disorder\")\n",
    "tmp.rename(columns={ tmp.columns[0]: \"Disorder\" }, inplace= True)\n",
    "\n",
    "# View new data set\n",
    "# tmp.head()\n",
    "\n",
    "# Count the number of disorders by type of disorder\n",
    "tmp.Disorder.value_counts()\n",
    "\n",
    "\n",
    "#Answer:\n",
    "print(\"Final Result\")\n",
    "print(\"'Mood Disorder' is the most commen mental disorder reported.\")"
   ]
  },
  {
   "cell_type": "code",
   "execution_count": null,
   "metadata": {
    "collapsed": true
   },
   "outputs": [],
   "source": [
    "\n",
    "\n",
    "\n",
    "\n",
    "\n",
    "\n",
    "\n",
    "\n",
    "\n",
    "\n",
    "\n",
    "\n",
    "\n"
   ]
  },
  {
   "cell_type": "markdown",
   "metadata": {},
   "source": [
    "# How many people report a history of depression and also have a family history of mental illness? "
   ]
  },
  {
   "cell_type": "code",
   "execution_count": 17,
   "metadata": {
    "collapsed": false
   },
   "outputs": [
    {
     "data": {
      "text/plain": [
       "'View the groups keys '"
      ]
     },
     "execution_count": 17,
     "metadata": {},
     "output_type": "execute_result"
    }
   ],
   "source": [
    "# Group employees who have history of mental illness and  'family history of mental illness\n",
    "family_health = mental.groupby(['Have you had a mental health disorder in the past?', \\\n",
    "                                'Do you have a family history of mental illness?'])\n",
    "\n",
    "'''View the groups keys '''    # Unblock code below to activate\n",
    "# family_health.groups.keys()"
   ]
  },
  {
   "cell_type": "code",
   "execution_count": 19,
   "metadata": {
    "collapsed": false
   },
   "outputs": [
    {
     "name": "stdout",
     "output_type": "stream",
     "text": [
      "Have you had a mental health disorder in the past?  Do you have a family history of mental illness?\n",
      "Maybe                                               I don't know                                        79\n",
      "                                                    No                                                  66\n",
      "                                                    Yes                                                101\n",
      "No                                                  I don't know                                        75\n",
      "                                                    No                                                 287\n",
      "                                                    Yes                                                 89\n",
      "Yes                                                 I don't know                                       121\n",
      "                                                    No                                                 135\n",
      "                                                    Yes                                                480\n",
      "dtype: int64\n",
      "\n",
      "Final Result\n",
      "[480]employees reported that they are self-employed or work remotely.\n"
     ]
    }
   ],
   "source": [
    "# Count how many employess have had a history of mental illness\n",
    "health_history = family_health.apply(len)\n",
    "\n",
    "'''View the response table '''    #Unblock code below to activate\n",
    "print(health_history)\n",
    "print()\n",
    "# Answer:\n",
    "print(\"Final Result\")\n",
    "print('[' + '480' + ']' + 'employees reported that they are self-employed or work remotely.')"
   ]
  },
  {
   "cell_type": "markdown",
   "metadata": {},
   "source": [
    "# Is there a correlation between US states and prevalence of mental illness? "
   ]
  },
  {
   "cell_type": "code",
   "execution_count": 20,
   "metadata": {
    "collapsed": false
   },
   "outputs": [
    {
     "data": {
      "text/plain": [
       "'View the groups keys '"
      ]
     },
     "execution_count": 20,
     "metadata": {},
     "output_type": "execute_result"
    }
   ],
   "source": [
    "# Group employess by their country of origin and if they have been diagnosed by a medical profession\n",
    "mental_by_state = mental.groupby(['What country do you live in?', \\\n",
    "                               'Have you been diagnosed with a mental health condition by a medical professional?'])\n",
    "\n",
    "'''View the groups keys '''    # Unblock code below to activate\n",
    "# mental_state.groups.keys()"
   ]
  },
  {
   "cell_type": "code",
   "execution_count": 21,
   "metadata": {
    "collapsed": false
   },
   "outputs": [
    {
     "name": "stdout",
     "output_type": "stream",
     "text": [
      "<class 'pandas.core.series.Series'>\n",
      "What country do you live in?  Have you been diagnosed with a mental health condition by a medical professional?\n",
      "United States of America      Yes                                                                                  473\n",
      "                              No                                                                                   367\n",
      "United Kingdom                No                                                                                   104\n",
      "                              Yes                                                                                   76\n",
      "Canada                        No                                                                                    47\n",
      "Germany                       No                                                                                    37\n",
      "Canada                        Yes                                                                                   31\n",
      "Netherlands                   Yes                                                                                   25\n",
      "Australia                     Yes                                                                                   24\n",
      "Netherlands                   No                                                                                    23\n",
      "dtype: int64\n"
     ]
    }
   ],
   "source": [
    "# Count how many employees reported being in each different size company\n",
    "mental_state = mental_by_state.apply(len)\n",
    "\n",
    "'''View the response table '''    # Unblock code below to activate\n",
    "print(type(mental_state))\n",
    "print(mental_state.nlargest(10))"
   ]
  },
  {
   "cell_type": "markdown",
   "metadata": {},
   "source": [
    "# Is there a higher number of employees reporting mental illness in large companies (> 500 employees) than in smaller companies? "
   ]
  },
  {
   "cell_type": "code",
   "execution_count": 23,
   "metadata": {
    "collapsed": false
   },
   "outputs": [],
   "source": [
    "# mental['How many employees does your company or organization have?'] = mental[\n",
    "#     'How many employees does your company or organization have?'].replace[]\n",
    "\n",
    "\n",
    "\n",
    "# Group employess by the size of their company\n",
    "comp_compare = mental.groupby(['How many employees does your company or organization have?', \n",
    "                               'Do you currently have a mental health disorder?'])\n",
    "\n",
    "# # Unblock code below to view the groups keys\n",
    "# comp_compare.groups.keys()"
   ]
  },
  {
   "cell_type": "code",
   "execution_count": 25,
   "metadata": {
    "collapsed": false
   },
   "outputs": [
    {
     "name": "stdout",
     "output_type": "stream",
     "text": [
      "How many employees does your company or organization have?  Do you currently have a mental health disorder?\n",
      "100-500                                                     Maybe                                               63\n",
      "                                                            No                                                  86\n",
      "                                                            Yes                                                 99\n",
      "25-Jun                                                      Maybe                                               52\n",
      "                                                            No                                                  85\n",
      "                                                            Yes                                                 73\n",
      "26-100                                                      Maybe                                               54\n",
      "                                                            No                                                 111\n",
      "                                                            Yes                                                127\n",
      "5-Jan                                                       Maybe                                               14\n",
      "                                                            No                                                  27\n",
      "                                                            Yes                                                 19\n",
      "500-1000                                                    Maybe                                               21\n",
      "                                                            No                                                  35\n",
      "                                                            Yes                                                 24\n",
      "More than 1000                                              Maybe                                               50\n",
      "                                                            No                                                  97\n",
      "                                                            Yes                                                109\n",
      "dtype: int64\n",
      "\n",
      "Final Result\n",
      "[133]employees reported being in a large company.\n",
      "\n",
      "[318]employees reported being in a small company.\n",
      "\n",
      "More employees from smaller companies vs larger companies reported having a mental illnesse\n"
     ]
    }
   ],
   "source": [
    "# Count how many employees reported being in each different size company\n",
    "work_size = comp_compare.apply(len)\n",
    "\n",
    "# Unblock code below to view response table\n",
    "print(work_size)\n",
    "print()\n",
    "\n",
    "# Answers below:\n",
    "print(\"Final Result\")\n",
    "print('[' + str(24 + 109) + ']' + 'employees reported being in a large company.')\n",
    "print()\n",
    "print('[' + str(19 + 99 + 127 + 73) + ']' + 'employees reported being in a small company.')\n",
    "print()\n",
    "print(\"More employees from smaller companies vs larger companies reported having a mental illnesse\")"
   ]
  }
 ],
 "metadata": {
  "anaconda-cloud": {},
  "kernelspec": {
   "display_name": "Python [default]",
   "language": "python",
   "name": "python3"
  },
  "language_info": {
   "codemirror_mode": {
    "name": "ipython",
    "version": 3
   },
   "file_extension": ".py",
   "mimetype": "text/x-python",
   "name": "python",
   "nbconvert_exporter": "python",
   "pygments_lexer": "ipython3",
   "version": "3.5.2"
  }
 },
 "nbformat": 4,
 "nbformat_minor": 2
}
